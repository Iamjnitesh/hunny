{
 "cells": [
  {
   "cell_type": "code",
   "execution_count": 3,
   "metadata": {},
   "outputs": [],
   "source": [
    "a=input(\"Enter your 4 digit atm pin :\")"
   ]
  },
  {
   "cell_type": "code",
   "execution_count": 5,
   "metadata": {},
   "outputs": [
    {
     "name": "stdout",
     "output_type": "stream",
     "text": [
      "9807 <class 'str'>\n"
     ]
    }
   ],
   "source": [
    "print(a, type(a))"
   ]
  },
  {
   "cell_type": "code",
   "execution_count": 6,
   "metadata": {},
   "outputs": [
    {
     "data": {
      "text/plain": [
       "'9807'"
      ]
     },
     "execution_count": 6,
     "metadata": {},
     "output_type": "execute_result"
    }
   ],
   "source": [
    "a"
   ]
  },
  {
   "cell_type": "code",
   "execution_count": 10,
   "metadata": {},
   "outputs": [
    {
     "name": "stdout",
     "output_type": "stream",
     "text": [
      "10 <class 'str'>\n",
      "20 <class 'str'>\n",
      "1020\n"
     ]
    }
   ],
   "source": [
    "a=input(\"Enter your number1 :\")\n",
    "print(a,type(a))\n",
    "b=input(\"Enter your number2 :\")\n",
    "print(b,type(b))\n",
    "print(a+b)"
   ]
  },
  {
   "cell_type": "code",
   "execution_count": 11,
   "metadata": {},
   "outputs": [
    {
     "name": "stdout",
     "output_type": "stream",
     "text": [
      "10 <class 'int'>\n",
      "20 <class 'str'>\n"
     ]
    },
    {
     "ename": "TypeError",
     "evalue": "unsupported operand type(s) for +: 'int' and 'str'",
     "output_type": "error",
     "traceback": [
      "\u001b[1;31m---------------------------------------------------------------------------\u001b[0m",
      "\u001b[1;31mTypeError\u001b[0m                                 Traceback (most recent call last)",
      "Cell \u001b[1;32mIn[11], line 5\u001b[0m\n\u001b[0;32m      3\u001b[0m b\u001b[39m=\u001b[39m\u001b[39minput\u001b[39m(\u001b[39m\"\u001b[39m\u001b[39mEnter your number2 :\u001b[39m\u001b[39m\"\u001b[39m)\n\u001b[0;32m      4\u001b[0m \u001b[39mprint\u001b[39m(b,\u001b[39mtype\u001b[39m(b))\n\u001b[1;32m----> 5\u001b[0m \u001b[39mprint\u001b[39m(a\u001b[39m+\u001b[39;49mb)\n",
      "\u001b[1;31mTypeError\u001b[0m: unsupported operand type(s) for +: 'int' and 'str'"
     ]
    }
   ],
   "source": [
    "a=int(input(\"Enter your number1 :\"))\n",
    "print(a,type(a))\n",
    "b=input(\"Enter your number2 :\")\n",
    "print(b,type(b))\n",
    "print(a+b)"
   ]
  },
  {
   "cell_type": "code",
   "execution_count": 12,
   "metadata": {},
   "outputs": [
    {
     "name": "stdout",
     "output_type": "stream",
     "text": [
      "10 <class 'int'>\n",
      "20 <class 'int'>\n",
      "30\n"
     ]
    }
   ],
   "source": [
    "a=int(input(\"Enter your number1 :\"))\n",
    "print(a,type(a))\n",
    "b=int(input(\"Enter your number2 :\"))\n",
    "print(b,type(b))\n",
    "print(a+b)   #30"
   ]
  },
  {
   "cell_type": "code",
   "execution_count": 13,
   "metadata": {},
   "outputs": [
    {
     "ename": "ValueError",
     "evalue": "invalid literal for int() with base 10: '10.0'",
     "output_type": "error",
     "traceback": [
      "\u001b[1;31m---------------------------------------------------------------------------\u001b[0m",
      "\u001b[1;31mValueError\u001b[0m                                Traceback (most recent call last)",
      "Cell \u001b[1;32mIn[13], line 1\u001b[0m\n\u001b[1;32m----> 1\u001b[0m a\u001b[39m=\u001b[39m\u001b[39mint\u001b[39;49m(\u001b[39minput\u001b[39;49m(\u001b[39m\"\u001b[39;49m\u001b[39mEnter your number1 :\u001b[39;49m\u001b[39m\"\u001b[39;49m))\n\u001b[0;32m      2\u001b[0m \u001b[39mprint\u001b[39m(a,\u001b[39mtype\u001b[39m(a))\n\u001b[0;32m      3\u001b[0m b\u001b[39m=\u001b[39m\u001b[39mint\u001b[39m(\u001b[39minput\u001b[39m(\u001b[39m\"\u001b[39m\u001b[39mEnter your number2 :\u001b[39m\u001b[39m\"\u001b[39m))\n",
      "\u001b[1;31mValueError\u001b[0m: invalid literal for int() with base 10: '10.0'"
     ]
    }
   ],
   "source": [
    "a=int(input(\"Enter your number1 :\"))\n",
    "print(a,type(a))\n",
    "b=int(input(\"Enter your number2 :\"))\n",
    "print(b,type(b))\n",
    "print(a+b)"
   ]
  },
  {
   "cell_type": "code",
   "execution_count": 15,
   "metadata": {},
   "outputs": [
    {
     "name": "stdout",
     "output_type": "stream",
     "text": [
      "10.5 <class 'float'>\n",
      "20.4 <class 'float'>\n",
      "30.9\n"
     ]
    }
   ],
   "source": [
    "a=float(input(\"Enter your number1 :\"))\n",
    "print(a,type(a))\n",
    "b=float(input(\"Enter your number2 :\"))\n",
    "print(b,type(b))\n",
    "print(a+b)"
   ]
  },
  {
   "cell_type": "code",
   "execution_count": 16,
   "metadata": {},
   "outputs": [
    {
     "name": "stdout",
     "output_type": "stream",
     "text": [
      "10.0 <class 'float'>\n",
      "20.0 <class 'float'>\n",
      "30.0\n"
     ]
    }
   ],
   "source": [
    "a=float(input(\"Enter your number1 :\"))\n",
    "print(a,type(a))\n",
    "b=float(input(\"Enter your number2 :\"))\n",
    "print(b,type(b))\n",
    "print(a+b)"
   ]
  },
  {
   "cell_type": "code",
   "execution_count": 17,
   "metadata": {},
   "outputs": [
    {
     "name": "stdout",
     "output_type": "stream",
     "text": [
      "10 <class 'int'>\n",
      "20.2 <class 'float'>\n",
      "30.2\n"
     ]
    }
   ],
   "source": [
    "a=eval(input(\"Enter your number1 :\"))\n",
    "print(a,type(a))\n",
    "b=eval(input(\"Enter your number2 :\"))\n",
    "print(b,type(b))\n",
    "print(a+b)"
   ]
  },
  {
   "cell_type": "code",
   "execution_count": 18,
   "metadata": {},
   "outputs": [],
   "source": [
    "# +,-,/,*  nnkrishna714ducat@gmail.com"
   ]
  },
  {
   "cell_type": "code",
   "execution_count": 25,
   "metadata": {},
   "outputs": [
    {
     "name": "stdout",
     "output_type": "stream",
     "text": [
      "Let's go somewhere :\n",
      "Yes are going to Goa\n"
     ]
    }
   ],
   "source": [
    "krishna=\"Let's go somewhere :\"\n",
    "\n",
    "print(krishna)\n",
    "krishna=input(\"Let's toss and decide if head will come we will go to Goa else go to Kashmir :\")\n",
    "\n",
    "if krishna.casefold()=='head':\n",
    "    print(\"Yes are going to Goa\")\n",
    "else:\n",
    "    print(\"We are going to Kashmir\")"
   ]
  },
  {
   "cell_type": "code",
   "execution_count": 28,
   "metadata": {},
   "outputs": [
    {
     "name": "stdout",
     "output_type": "stream",
     "text": [
      "Let's go somewhere :\n",
      "We are going to Kashmir\n"
     ]
    }
   ],
   "source": [
    "# elif\n",
    "krishna=\"Let's go somewhere :\"\n",
    "\n",
    "print(krishna)\n",
    "krishna=input(\"Let's toss and decide if head will come we will go to Goa else go to Kashmir :\")\n",
    "\n",
    "if krishna.casefold()=='head':\n",
    "    print(\"Yes are going to Goa\")\n",
    "elif krishna.casefold()=='tail':\n",
    "    print(\"We are going to Kashmir\")\n",
    "else:\n",
    "    print(\"Dead end\")\n",
    "    "
   ]
  },
  {
   "cell_type": "code",
   "execution_count": 30,
   "metadata": {},
   "outputs": [
    {
     "name": "stdout",
     "output_type": "stream",
     "text": [
      "Let's go somewhere :\n",
      "tail\n",
      "We are going to Kashmir\n"
     ]
    }
   ],
   "source": [
    "# elif\n",
    "krishna=\"Let's go somewhere :\"\n",
    "\n",
    "print(krishna)\n",
    "krishna=input(\"Let's toss and decide if head will come we will go to Goa else go to Kashmir :\").casefold()\n",
    "print(krishna)\n",
    "if krishna=='head':\n",
    "    print(\"Yes are going to Goa\")\n",
    "elif krishna=='tail':\n",
    "    print(\"We are going to Kashmir\")\n",
    "else:\n",
    "    print(\"Dead end\")"
   ]
  },
  {
   "cell_type": "code",
   "execution_count": 31,
   "metadata": {},
   "outputs": [
    {
     "name": "stdout",
     "output_type": "stream",
     "text": [
      "Let's go somewhere :\n",
      "pune\n",
      "we are going to Pune\n"
     ]
    }
   ],
   "source": [
    "# multiple elif\n",
    "krishna=\"Let's go somewhere :\"\n",
    "\n",
    "print(krishna)\n",
    "krishna=input(\"Let's toss and decide if head will come we will go to Goa else go to Kashmir :\").casefold()\n",
    "print(krishna)\n",
    "if krishna=='head':\n",
    "    print(\"Yes are going to Goa\")\n",
    "elif krishna=='tail':\n",
    "    print(\"We are going to Kashmir\")\n",
    "elif krishna ==\"pune\":\n",
    "    print(\"we are going to Pune\")\n",
    "else:\n",
    "    print(\"Dead end\")"
   ]
  },
  {
   "cell_type": "code",
   "execution_count": 32,
   "metadata": {},
   "outputs": [
    {
     "name": "stdout",
     "output_type": "stream",
     "text": [
      "Let's go somewhere :\n",
      "pune\n",
      "Yes are going to Goa\n"
     ]
    }
   ],
   "source": [
    "# multiple elif\n",
    "krishna=\"Let's go somewhere :\"\n",
    "\n",
    "print(krishna)\n",
    "krishna=input(\"Let's toss and decide if head will come we will go to Goa else go to Kashmir :\").casefold()\n",
    "print(krishna)\n",
    "if krishna=='pune':\n",
    "    print(\"Yes are going to Goa\")\n",
    "elif krishna=='pune':\n",
    "    print(\"We are going to Kashmir\")\n",
    "elif krishna ==\"pune\":\n",
    "    print(\"we are going to Pune\")\n",
    "else:\n",
    "    print(\"Dead end\")"
   ]
  },
  {
   "cell_type": "code",
   "execution_count": 33,
   "metadata": {},
   "outputs": [
    {
     "name": "stdout",
     "output_type": "stream",
     "text": [
      "Let's go somewhere :\n",
      "pune\n",
      "Yes are going to Goa\n",
      "We are going to Kashmir\n",
      "we are going to Pune\n"
     ]
    }
   ],
   "source": [
    "# multiple elif  this is an error \n",
    "krishna=\"Let's go somewhere :\"\n",
    "\n",
    "print(krishna)\n",
    "krishna=input(\"Let's toss and decide if head will come we will go to Goa else go to Kashmir :\").casefold()\n",
    "print(krishna)\n",
    "if krishna=='pune':\n",
    "    print(\"Yes are going to Goa\")\n",
    "if krishna=='pune':\n",
    "    print(\"We are going to Kashmir\")\n",
    "if krishna ==\"pune\":\n",
    "    print(\"we are going to Pune\")\n",
    "else:\n",
    "    print(\"Dead end\")"
   ]
  },
  {
   "cell_type": "code",
   "execution_count": 35,
   "metadata": {},
   "outputs": [
    {
     "name": "stdout",
     "output_type": "stream",
     "text": [
      "Let's go somewhere :\n",
      "pune\n",
      "Yes are going to Goa\n",
      "we will have bear\n"
     ]
    }
   ],
   "source": [
    "# multiple elif\n",
    "krishna=\"Let's go somewhere :\"\n",
    "\n",
    "print(krishna)\n",
    "krishna=input(\"Let's go to :\").casefold()\n",
    "print(krishna)\n",
    "if krishna=='goa':\n",
    " print(\"Yes are going to Goa\")\n",
    " print(\"we will have bear\")\n",
    "elif krishna=='kashmir':\n",
    "    print(\"We are going to Kashmir\")\n",
    "elif krishna ==\"pune\":\n",
    "    print(\"we are going to Pune\")\n",
    "else:\n",
    "    print(\"Dead end\")"
   ]
  },
  {
   "cell_type": "code",
   "execution_count": null,
   "metadata": {},
   "outputs": [],
   "source": []
  }
 ],
 "metadata": {
  "kernelspec": {
   "display_name": "Python 3",
   "language": "python",
   "name": "python3"
  },
  "language_info": {
   "codemirror_mode": {
    "name": "ipython",
    "version": 3
   },
   "file_extension": ".py",
   "mimetype": "text/x-python",
   "name": "python",
   "nbconvert_exporter": "python",
   "pygments_lexer": "ipython3",
   "version": "3.11.1"
  },
  "orig_nbformat": 4,
  "vscode": {
   "interpreter": {
    "hash": "47ba72d4fb05e28199db6c34b2c0ce05f7d0fccec695ef0642a96a8661cc57fd"
   }
  }
 },
 "nbformat": 4,
 "nbformat_minor": 2
}
